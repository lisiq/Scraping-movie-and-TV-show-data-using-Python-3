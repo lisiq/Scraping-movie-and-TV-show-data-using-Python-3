{
 "cells": [
  {
   "cell_type": "code",
   "execution_count": 1,
   "metadata": {},
   "outputs": [],
   "source": [
    "import pandas as pd\n",
    "from bs4 import BeautifulSoup\n",
    "import requests\n",
    "import lxml.html as lh\n",
    "import re\n",
    "import json"
   ]
  },
  {
   "cell_type": "code",
   "execution_count": 5,
   "metadata": {},
   "outputs": [],
   "source": [
    "proxies = {\n",
    "  'http': 'http://92.119.177.90',\n",
    "}\n",
    "url = 'https://www.tbs.com'\n",
    "urlmovies = 'https://www.tbs.com/movies'"
   ]
  },
  {
   "cell_type": "code",
   "execution_count": 10,
   "metadata": {},
   "outputs": [],
   "source": [
    "#get all the moviess\n",
    "r = requests.get(urlmovies, proxies = proxies)\n",
    "c = r.content\n",
    "soup = BeautifulSoup(c, 'html.parser')\n",
    "result = []\n",
    "for a in soup.find_all('a', href=True):\n",
    "    if a['href'][:8] == '/movies/':\n",
    "        result.append(a['href'])\n"
   ]
  },
  {
   "cell_type": "code",
   "execution_count": 12,
   "metadata": {},
   "outputs": [],
   "source": [
    "result = list(set(result))"
   ]
  },
  {
   "cell_type": "code",
   "execution_count": 13,
   "metadata": {},
   "outputs": [],
   "source": [
    "# get info from movies\n",
    "\n",
    "for i in result:\n",
    "    r = requests.get(url + i, proxies = proxies)\n",
    "    c = r.content\n",
    "    soup = BeautifulSoup(c, 'html.parser')\n",
    "    with open('/home/lisi/Desktop/MediaBiz/TBSmovies/TBSmovies_ldjson/' + i.encode(\"utf-8\").hex() + '.json', 'w') as j:\n",
    "        j.write(json.dumps(\n",
    "            str(soup.find_all(lambda tag: tag.name == 'script' and \n",
    "                              tag.get('type') == 'application/ld+json'))[36:-10]))"
   ]
  },
  {
   "cell_type": "code",
   "execution_count": 15,
   "metadata": {},
   "outputs": [],
   "source": [
    "dict_list = []\n",
    "for i in result:\n",
    "    try:\n",
    "        with open('/home/lisi/Desktop/MediaBiz/TBSmovies/TBSmovies_ldjson/' + i.encode(\"utf-8\").hex() + '.json', 'r') as j:\n",
    "            dict_list.append(dict(eval(json.load(j).replace('null', '\"NaN\"')\\\n",
    "                                           .replace('true',\"True\")\\\n",
    "                                           .replace('false',\"False\"))))\n",
    "    except SyntaxError:\n",
    "        pass\n",
    "        "
   ]
  },
  {
   "cell_type": "code",
   "execution_count": 42,
   "metadata": {},
   "outputs": [],
   "source": [
    "def get_info(n):\n",
    "    m = n['potentialAction'][0]\n",
    "    url = \"\\\\/\" + \"/\".join(n['@id'].split(\"/\", 4)[3:])\n",
    "    genre = m['@type']\n",
    "    language = m['target']['inLanguage']\n",
    "    bot_country = m['actionAccessibilityRequirement']['eligibleRegion']['name']\n",
    "    availabilityStarts = m['actionAccessibilityRequirement']['availabilityStarts']\n",
    "    availabilityEnds = m['actionAccessibilityRequirement']['availabilityEnds']\n",
    "    bot_system = m['actionAccessibilityRequirement']['requiresSubscription']['name']\n",
    "    offer_type = m['actionAccessibilityRequirement']['requiresSubscription']['authenticator']['name']\n",
    "    return [url, genre, language, bot_country, availabilityStarts, availabilityEnds, bot_system, offer_type]"
   ]
  },
  {
   "cell_type": "code",
   "execution_count": 43,
   "metadata": {},
   "outputs": [],
   "source": [
    "flat_list = []\n",
    "for i in dict_list:\n",
    "    try:\n",
    "        flat_list.append(get_info(i))\n",
    "    except KeyError:\n",
    "        pass\n",
    "        "
   ]
  },
  {
   "cell_type": "code",
   "execution_count": 44,
   "metadata": {},
   "outputs": [],
   "source": [
    "tbsmovies_ldjson = pd.DataFrame(flat_list, \n",
    "                               columns=['url', 'genre', 'language', 'bot_country', 'availabilityStarts', \n",
    "                                        'availabilityEnds', 'bot_system', 'offer_type'])"
   ]
  },
  {
   "cell_type": "code",
   "execution_count": 45,
   "metadata": {},
   "outputs": [],
   "source": [
    "#tbsmovies_ldjson.to_csv('/home/lisi/Desktop/MediaBiz/TBSmovies/tbsmovies_ldjson.csv', index=False)"
   ]
  },
  {
   "cell_type": "code",
   "execution_count": 47,
   "metadata": {},
   "outputs": [],
   "source": [
    "for i in result:\n",
    "    r = requests.get(url + i, proxies = proxies)\n",
    "    c = r.content\n",
    "    soup = BeautifulSoup(c, 'html.parser')\n",
    "    with open('/home/lisi/Desktop/MediaBiz/TBSmovies/TBSmovies_drupla-settings-json/' + i.encode(\"utf-8\").hex() + '.json', 'w') as j:\n",
    "        j.write(json.dumps(\n",
    "            str(soup.find_all(lambda tag: tag.name == 'script' and \n",
    "                              tag.get('type') == 'application/json' and\n",
    "                            tag.get('data-drupal-selector') == 'drupal-settings-json')[0])[76:-9]))"
   ]
  },
  {
   "cell_type": "code",
   "execution_count": 48,
   "metadata": {},
   "outputs": [],
   "source": [
    "flat_list = []\n",
    "dict_list = []\n",
    "for i in result:\n",
    "    try:\n",
    "        with open('/home/lisi/Desktop/MediaBiz/TBSmovies/TBSmovies_drupla-settings-json/' + i.encode(\"utf-8\").hex() + '.json', 'r') as j:\n",
    "            dict_list.append(dict(eval(json.load(j).replace('null', '\"NaN\"')\\\n",
    "                                       .replace('true',\"True\")\\\n",
    "                                       .replace('false',\"False\")))['turner_playlist'])\n",
    "    except KeyError:\n",
    "        pass\n",
    "        \n",
    "flat_list = [item for sublist in dict_list for item in sublist]"
   ]
  },
  {
   "cell_type": "code",
   "execution_count": 50,
   "metadata": {},
   "outputs": [],
   "source": [
    "tbsmovies_drupla_settings_json = pd.DataFrame(flat_list)"
   ]
  },
  {
   "cell_type": "code",
   "execution_count": 52,
   "metadata": {},
   "outputs": [],
   "source": [
    "#tbsmovies_drupla_settings_json.to_csv('/home/lisi/Desktop/MediaBiz/TBSmovies/tbsmovies_drupla_settings_json.csv', index=False)"
   ]
  },
  {
   "cell_type": "code",
   "execution_count": null,
   "metadata": {},
   "outputs": [],
   "source": []
  }
 ],
 "metadata": {
  "kernelspec": {
   "display_name": "Python 3",
   "language": "python",
   "name": "python3"
  },
  "language_info": {
   "codemirror_mode": {
    "name": "ipython",
    "version": 3
   },
   "file_extension": ".py",
   "mimetype": "text/x-python",
   "name": "python",
   "nbconvert_exporter": "python",
   "pygments_lexer": "ipython3",
   "version": "3.6.9"
  }
 },
 "nbformat": 4,
 "nbformat_minor": 2
}
