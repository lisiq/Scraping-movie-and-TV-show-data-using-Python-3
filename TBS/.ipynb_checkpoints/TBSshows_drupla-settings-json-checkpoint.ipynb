{
 "cells": [
  {
   "cell_type": "code",
   "execution_count": 1,
   "metadata": {},
   "outputs": [],
   "source": [
    "import pandas as pd\n",
    "from bs4 import BeautifulSoup\n",
    "import requests\n",
    "import re\n",
    "import json"
   ]
  },
  {
   "cell_type": "code",
   "execution_count": 2,
   "metadata": {},
   "outputs": [],
   "source": [
    "proxies = {\n",
    "  'http': 'http://92.119.177.90',\n",
    "}\n",
    "url = 'https://www.tbs.com'\n",
    "urlshows = 'https://www.tbs.com/shows'"
   ]
  },
  {
   "cell_type": "code",
   "execution_count": 3,
   "metadata": {},
   "outputs": [],
   "source": [
    "# get info from episodes\n",
    "with open('/home/lisi/Desktop/MediaBiz/TBS/episodes.txt', 'r') as file:\n",
    "    lines = [line.strip() for line in file]"
   ]
  },
  {
   "cell_type": "code",
   "execution_count": 4,
   "metadata": {},
   "outputs": [],
   "source": [
    "new_lines = []\n",
    "for i in lines:\n",
    "    match = \"/\".join(i.split(\"/\", 4)[:4]) #split until fourth occurence of /, and then get first 4 elements, after that join\n",
    "    if match not in new_lines:\n",
    "        new_lines.append(match)\n",
    "        new_lines.append(i)\n",
    "\n",
    "new_lines = new_lines[1::2]"
   ]
  },
  {
   "cell_type": "code",
   "execution_count": 5,
   "metadata": {},
   "outputs": [],
   "source": [
    "for i in new_lines:\n",
    "    r = requests.get(url + i, proxies = proxies)\n",
    "    c = r.content\n",
    "    soup = BeautifulSoup(c, 'html.parser')\n",
    "    with open('/home/lisi/Desktop/MediaBiz/TBS/TBSshows_drupla-settings-json/' + i.encode(\"utf-8\").hex() + '.json', 'w') as j:\n",
    "        j.write(json.dumps(\n",
    "            str(soup.find_all(lambda tag: tag.name == 'script' and \n",
    "                              tag.get('type') == 'application/json' and\n",
    "                            tag.get('data-drupal-selector') == 'drupal-settings-json')[0])[76:-9]))"
   ]
  },
  {
   "cell_type": "code",
   "execution_count": 6,
   "metadata": {},
   "outputs": [],
   "source": [
    "flat_list = []\n",
    "dict_list = []\n",
    "for i in new_lines:\n",
    "    try:\n",
    "        with open('/home/lisi/Desktop/MediaBiz/TBS/TBSshows_drupla-settings-json/' + i.encode(\"utf-8\").hex() + '.json', 'r') as j:\n",
    "            dict_list.append(dict(eval(json.load(j).replace('null', '\"NaN\"')\\\n",
    "                                       .replace('true',\"True\")\\\n",
    "                                       .replace('false',\"False\")))['turner_playlist'])\n",
    "    except KeyError:\n",
    "        pass\n",
    "        \n",
    "flat_list = [item for sublist in dict_list for item in sublist]"
   ]
  },
  {
   "cell_type": "code",
   "execution_count": 7,
   "metadata": {},
   "outputs": [],
   "source": [
    "tbsshows_drupla_settings_json = pd.DataFrame(flat_list)"
   ]
  },
  {
   "cell_type": "code",
   "execution_count": 9,
   "metadata": {},
   "outputs": [],
   "source": [
    "#tbsshows_drupla_settings_json.to_csv('/home/lisi/Desktop/MediaBiz/TBS/tbsshows_drupla_settings_json.csv', index=False)"
   ]
  },
  {
   "cell_type": "code",
   "execution_count": null,
   "metadata": {},
   "outputs": [],
   "source": []
  },
  {
   "cell_type": "code",
   "execution_count": 7,
   "metadata": {},
   "outputs": [],
   "source": []
  },
  {
   "cell_type": "code",
   "execution_count": 42,
   "metadata": {},
   "outputs": [],
   "source": []
  },
  {
   "cell_type": "code",
   "execution_count": null,
   "metadata": {},
   "outputs": [],
   "source": []
  },
  {
   "cell_type": "code",
   "execution_count": null,
   "metadata": {},
   "outputs": [],
   "source": []
  }
 ],
 "metadata": {
  "kernelspec": {
   "display_name": "Python 3",
   "language": "python",
   "name": "python3"
  },
  "language_info": {
   "codemirror_mode": {
    "name": "ipython",
    "version": 3
   },
   "file_extension": ".py",
   "mimetype": "text/x-python",
   "name": "python",
   "nbconvert_exporter": "python",
   "pygments_lexer": "ipython3",
   "version": "3.6.9"
  }
 },
 "nbformat": 4,
 "nbformat_minor": 2
}
